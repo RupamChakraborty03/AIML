{
  "nbformat": 4,
  "nbformat_minor": 0,
  "metadata": {
    "colab": {
      "name": "LabelPropagationAndSpreading.ipynb",
      "provenance": [],
      "collapsed_sections": []
    },
    "kernelspec": {
      "name": "python3",
      "display_name": "Python 3"
    },
    "language_info": {
      "name": "python"
    }
  },
  "cells": [
    {
      "cell_type": "code",
      "execution_count": 1,
      "metadata": {
        "id": "JtbKXtsdGGlF"
      },
      "outputs": [],
      "source": [
        "from sklearn.datasets import load_digits"
      ]
    },
    {
      "cell_type": "code",
      "source": [
        "digits=load_digits()\n"
      ],
      "metadata": {
        "id": "IC6Q7rBCGb2u"
      },
      "execution_count": 2,
      "outputs": []
    },
    {
      "cell_type": "code",
      "source": [
        " digits.data.shape"
      ],
      "metadata": {
        "colab": {
          "base_uri": "https://localhost:8080/"
        },
        "id": "JFZqdQuEGfs0",
        "outputId": "0686c57f-6d23-4642-8a8c-276594a60069"
      },
      "execution_count": 3,
      "outputs": [
        {
          "output_type": "execute_result",
          "data": {
            "text/plain": [
              "(1797, 64)"
            ]
          },
          "metadata": {},
          "execution_count": 3
        }
      ]
    },
    {
      "cell_type": "code",
      "source": [
        "digits.target"
      ],
      "metadata": {
        "colab": {
          "base_uri": "https://localhost:8080/"
        },
        "id": "_-DzfsU7Gih7",
        "outputId": "260c50f8-e0b8-4fcd-f13e-df712bb43a5c"
      },
      "execution_count": 4,
      "outputs": [
        {
          "output_type": "execute_result",
          "data": {
            "text/plain": [
              "array([0, 1, 2, ..., 8, 9, 8])"
            ]
          },
          "metadata": {},
          "execution_count": 4
        }
      ]
    },
    {
      "cell_type": "code",
      "source": [
        " import matplotlib.pyplot as plt"
      ],
      "metadata": {
        "id": "-Huy9H9DGks7"
      },
      "execution_count": 5,
      "outputs": []
    },
    {
      "cell_type": "code",
      "source": [
        "import numpy as np"
      ],
      "metadata": {
        "id": "1YgPQWOnGn9M"
      },
      "execution_count": 6,
      "outputs": []
    },
    {
      "cell_type": "code",
      "source": [
        "from sklearn.model_selection import train_test_split"
      ],
      "metadata": {
        "id": "1YS0zU1zGp9D"
      },
      "execution_count": 7,
      "outputs": []
    },
    {
      "cell_type": "code",
      "source": [
        "x_train, x_test, y_train, y_test = train_test_split(digits.data,digits.target,test_size=0.2)\n"
      ],
      "metadata": {
        "id": "Oaxyrks-Guo0"
      },
      "execution_count": 8,
      "outputs": []
    },
    {
      "cell_type": "code",
      "source": [
        "x_train.shape"
      ],
      "metadata": {
        "colab": {
          "base_uri": "https://localhost:8080/"
        },
        "id": "toZXnsXKG23k",
        "outputId": "8c8d676f-587d-413d-c930-59a1ff3136dd"
      },
      "execution_count": 9,
      "outputs": [
        {
          "output_type": "execute_result",
          "data": {
            "text/plain": [
              "(1437, 64)"
            ]
          },
          "metadata": {},
          "execution_count": 9
        }
      ]
    },
    {
      "cell_type": "code",
      "source": [
        " x_test.shape\n"
      ],
      "metadata": {
        "colab": {
          "base_uri": "https://localhost:8080/"
        },
        "id": "Q8KpYoPfG4rs",
        "outputId": "65bcc95b-0785-485c-f857-0035b7f2d58a"
      },
      "execution_count": 10,
      "outputs": [
        {
          "output_type": "execute_result",
          "data": {
            "text/plain": [
              "(360, 64)"
            ]
          },
          "metadata": {},
          "execution_count": 10
        }
      ]
    },
    {
      "cell_type": "code",
      "source": [
        "#target value\n",
        "print(y_train)\n"
      ],
      "metadata": {
        "colab": {
          "base_uri": "https://localhost:8080/"
        },
        "id": "OGE0A4Q4G67G",
        "outputId": "20d0ea48-70ee-4acd-8c93-97dbb0ab6a69"
      },
      "execution_count": 11,
      "outputs": [
        {
          "output_type": "stream",
          "name": "stdout",
          "text": [
            "[1 5 8 ... 3 9 3]\n"
          ]
        }
      ]
    },
    {
      "cell_type": "code",
      "source": [
        "#first get a list of indices of data\n",
        "indexList=np.arange(len(x_train))\n"
      ],
      "metadata": {
        "id": "xsTM6XjnG-QV"
      },
      "execution_count": 12,
      "outputs": []
    },
    {
      "cell_type": "code",
      "source": [
        " print(indexList)"
      ],
      "metadata": {
        "colab": {
          "base_uri": "https://localhost:8080/"
        },
        "id": "lua-JbsFHA4F",
        "outputId": "f556b87b-6a35-4ad0-9796-b64621634290"
      },
      "execution_count": 13,
      "outputs": [
        {
          "output_type": "stream",
          "name": "stdout",
          "text": [
            "[   0    1    2 ... 1434 1435 1436]\n"
          ]
        }
      ]
    },
    {
      "cell_type": "code",
      "source": [
        "#split training set to labelled and non-labelled\n",
        "x_labelled=x_train[indexList[:300]]\n"
      ],
      "metadata": {
        "id": "RG1QOlb5HD2v"
      },
      "execution_count": 14,
      "outputs": []
    },
    {
      "cell_type": "code",
      "source": [
        "#split training set to labelled and non-labelled\n",
        "y_labelled=y_train[indexList[:300]]"
      ],
      "metadata": {
        "id": "2BLmP3uPHGFu"
      },
      "execution_count": 15,
      "outputs": []
    },
    {
      "cell_type": "code",
      "source": [
        "nonLabelledIndices=indexList[300:]"
      ],
      "metadata": {
        "id": "Js-2LFDfHIzF"
      },
      "execution_count": 16,
      "outputs": []
    },
    {
      "cell_type": "code",
      "source": [
        " #remove the labels for non labelled indices in training data\n",
        "y_train_nonlabel = np.copy(y_train)"
      ],
      "metadata": {
        "id": "laTqypzRHWZe"
      },
      "execution_count": 17,
      "outputs": []
    },
    {
      "cell_type": "code",
      "source": [
        "#setting -1 as non labelled\n",
        "y_train_nonlabel[nonLabelledIndices] = -1"
      ],
      "metadata": {
        "id": "7su0OyWzHYmU"
      },
      "execution_count": 18,
      "outputs": []
    },
    {
      "cell_type": "code",
      "source": [
        " from sklearn.semi_supervised import LabelPropagation"
      ],
      "metadata": {
        "id": "cUYan8m4HbIN"
      },
      "execution_count": 19,
      "outputs": []
    },
    {
      "cell_type": "code",
      "source": [
        " lp=LabelPropagation(gamma=.30)\n",
        "#gamma is measure of kernel func,\n"
      ],
      "metadata": {
        "id": "cF-o__sjHdh-"
      },
      "execution_count": 20,
      "outputs": []
    },
    {
      "cell_type": "code",
      "source": [
        "lp.fit(x_train, y_train_nonlabel)"
      ],
      "metadata": {
        "colab": {
          "base_uri": "https://localhost:8080/"
        },
        "id": "H8z4wtZKHgDc",
        "outputId": "972c99b5-2d80-4e95-b93f-2988160637ee"
      },
      "execution_count": 21,
      "outputs": [
        {
          "output_type": "execute_result",
          "data": {
            "text/plain": [
              "LabelPropagation(gamma=0.3)"
            ]
          },
          "metadata": {},
          "execution_count": 21
        }
      ]
    },
    {
      "cell_type": "code",
      "source": [
        " lp.score(x_test,y_test)\n"
      ],
      "metadata": {
        "colab": {
          "base_uri": "https://localhost:8080/"
        },
        "id": "zFzh2LUKHh7c",
        "outputId": "29ceecfe-625e-4f63-b569-e7022f6328c8"
      },
      "execution_count": 22,
      "outputs": [
        {
          "output_type": "execute_result",
          "data": {
            "text/plain": [
              "0.9583333333333334"
            ]
          },
          "metadata": {},
          "execution_count": 22
        }
      ]
    },
    {
      "cell_type": "code",
      "source": [
        "#capture labels set by Label Propagataion on the set of non labelled data\n",
        "y_labelled=lp.transduction_[nonLabelledIndices]"
      ],
      "metadata": {
        "id": "KXWrvek7HmYs"
      },
      "execution_count": 23,
      "outputs": []
    },
    {
      "cell_type": "code",
      "source": [
        " from sklearn.metrics import confusion_matrix"
      ],
      "metadata": {
        "id": "V6q8xXgZHpmd"
      },
      "execution_count": 24,
      "outputs": []
    },
    {
      "cell_type": "code",
      "source": [
        "conf = confusion_matrix(y_train[nonLabelledIndices], y_labelled, labels=lp.classes_)\n"
      ],
      "metadata": {
        "id": "fbKM-eBxHskU"
      },
      "execution_count": 25,
      "outputs": []
    },
    {
      "cell_type": "code",
      "source": [
        "conf"
      ],
      "metadata": {
        "colab": {
          "base_uri": "https://localhost:8080/"
        },
        "id": "8b9E1_e-HwKP",
        "outputId": "ffeec4e8-3023-4d24-e04e-e092444eeebe"
      },
      "execution_count": 26,
      "outputs": [
        {
          "output_type": "execute_result",
          "data": {
            "text/plain": [
              "array([[114,   0,   0,   0,   0,   0,   0,   0,   0,   0],\n",
              "       [  0, 118,   0,   0,   0,   0,   0,   0,   0,   1],\n",
              "       [  0,   1, 117,   0,   0,   0,   0,   0,   1,   0],\n",
              "       [  0,   0,   2, 112,   0,   0,   0,   0,   3,   3],\n",
              "       [  0,   1,   0,   0, 115,   0,   0,   1,   0,   0],\n",
              "       [  0,   0,   0,   1,   0, 102,   0,   0,   0,   3],\n",
              "       [  0,   0,   0,   0,   0,   0,  93,   0,   0,   0],\n",
              "       [  0,   0,   0,   0,   0,   0,   0, 114,   0,   0],\n",
              "       [  0,  14,   0,   2,   0,   0,   1,   0,  99,   3],\n",
              "       [  0,   0,   0,   3,   1,   2,   0,   5,   4, 101]])"
            ]
          },
          "metadata": {},
          "execution_count": 26
        }
      ]
    },
    {
      "cell_type": "code",
      "source": [
        "from sklearn.semi_supervised import LabelSpreading"
      ],
      "metadata": {
        "id": "_YmSurmLH27F"
      },
      "execution_count": 27,
      "outputs": []
    },
    {
      "cell_type": "code",
      "source": [
        "ls=LabelSpreading(gamma=0.3)\n",
        "#gamma is measure of kernel func,"
      ],
      "metadata": {
        "id": "ikQcDU8-H59N"
      },
      "execution_count": 28,
      "outputs": []
    },
    {
      "cell_type": "code",
      "source": [
        "ls.fit(x_train, y_train_nonlabel)\n"
      ],
      "metadata": {
        "colab": {
          "base_uri": "https://localhost:8080/"
        },
        "id": "R6npNc0lH8Ot",
        "outputId": "197bedaf-2fbf-4951-fa4c-19976758b133"
      },
      "execution_count": 29,
      "outputs": [
        {
          "output_type": "execute_result",
          "data": {
            "text/plain": [
              "LabelSpreading(gamma=0.3)"
            ]
          },
          "metadata": {},
          "execution_count": 29
        }
      ]
    },
    {
      "cell_type": "code",
      "source": [
        " ls.score(x_test,y_test)"
      ],
      "metadata": {
        "colab": {
          "base_uri": "https://localhost:8080/"
        },
        "id": "Y2SU_6ByH_3t",
        "outputId": "45575901-8f12-47ba-e6a2-540de2215437"
      },
      "execution_count": 30,
      "outputs": [
        {
          "output_type": "execute_result",
          "data": {
            "text/plain": [
              "0.9611111111111111"
            ]
          },
          "metadata": {},
          "execution_count": 30
        }
      ]
    },
    {
      "cell_type": "code",
      "source": [
        " #capture labels set by Label Propagataion on the set of non labelled data\n",
        "y_labelled=lp.transduction_[nonLabelledIndices]"
      ],
      "metadata": {
        "id": "2Uc8j4FFIDCQ"
      },
      "execution_count": 31,
      "outputs": []
    },
    {
      "cell_type": "code",
      "source": [
        "conf = confusion_matrix(y_train[nonLabelledIndices], y_labelled, labels=lp.classes_)\n"
      ],
      "metadata": {
        "id": "L3uneFdyIFHW"
      },
      "execution_count": 32,
      "outputs": []
    },
    {
      "cell_type": "code",
      "source": [
        " conf"
      ],
      "metadata": {
        "colab": {
          "base_uri": "https://localhost:8080/"
        },
        "id": "HIr_fhmLIJI_",
        "outputId": "ad366bbe-d247-4c1d-e23c-ed2ae0a5e654"
      },
      "execution_count": 33,
      "outputs": [
        {
          "output_type": "execute_result",
          "data": {
            "text/plain": [
              "array([[114,   0,   0,   0,   0,   0,   0,   0,   0,   0],\n",
              "       [  0, 118,   0,   0,   0,   0,   0,   0,   0,   1],\n",
              "       [  0,   1, 117,   0,   0,   0,   0,   0,   1,   0],\n",
              "       [  0,   0,   2, 112,   0,   0,   0,   0,   3,   3],\n",
              "       [  0,   1,   0,   0, 115,   0,   0,   1,   0,   0],\n",
              "       [  0,   0,   0,   1,   0, 102,   0,   0,   0,   3],\n",
              "       [  0,   0,   0,   0,   0,   0,  93,   0,   0,   0],\n",
              "       [  0,   0,   0,   0,   0,   0,   0, 114,   0,   0],\n",
              "       [  0,  14,   0,   2,   0,   0,   1,   0,  99,   3],\n",
              "       [  0,   0,   0,   3,   1,   2,   0,   5,   4, 101]])"
            ]
          },
          "metadata": {},
          "execution_count": 33
        }
      ]
    }
  ]
}