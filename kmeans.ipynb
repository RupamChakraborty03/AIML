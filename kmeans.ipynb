{
  "nbformat": 4,
  "nbformat_minor": 0,
  "metadata": {
    "colab": {
      "name": "kmeans.ipynb",
      "provenance": [],
      "collapsed_sections": []
    },
    "kernelspec": {
      "name": "python3",
      "display_name": "Python 3"
    },
    "language_info": {
      "name": "python"
    }
  },
  "cells": [
    {
      "cell_type": "code",
      "execution_count": 1,
      "metadata": {
        "id": "c5yNUWjcBvNi"
      },
      "outputs": [],
      "source": [
        " import numpy as np"
      ]
    },
    {
      "cell_type": "code",
      "source": [
        "import matplotlib.pyplot as plt\n"
      ],
      "metadata": {
        "id": "FbUZyUUcDwSE"
      },
      "execution_count": 2,
      "outputs": []
    },
    {
      "cell_type": "code",
      "source": [
        "from sklearn.datasets import make_blobs"
      ],
      "metadata": {
        "id": "h3tkBA0gDytU"
      },
      "execution_count": 3,
      "outputs": []
    },
    {
      "cell_type": "code",
      "source": [
        " from sklearn.cluster import KMeans"
      ],
      "metadata": {
        "id": "3h1E6dzuD4DV"
      },
      "execution_count": 4,
      "outputs": []
    },
    {
      "cell_type": "code",
      "source": [
        "#generate data of 4 clusters with labels, store in single variable\n",
        "alldata=make_blobs(n_samples=200,centers=4,\n",
        "n_features=2, cluster_std=1.5, random_state=30)"
      ],
      "metadata": {
        "id": "h9hdZ2VaD_Us"
      },
      "execution_count": 5,
      "outputs": []
    },
    {
      "cell_type": "code",
      "source": [
        " print(alldata)\n"
      ],
      "metadata": {
        "colab": {
          "base_uri": "https://localhost:8080/"
        },
        "id": "QVkfSELOEGA7",
        "outputId": "b06f62da-9204-4084-e277-12acd969e46f"
      },
      "execution_count": 6,
      "outputs": [
        {
          "output_type": "stream",
          "name": "stdout",
          "text": [
            "(array([[ 8.51407976e+00, -6.18828280e+00],\n",
            "       [ 7.73736837e+00, -4.52365640e+00],\n",
            "       [ 2.40291137e+00, -7.94945122e+00],\n",
            "       [ 8.29380054e+00, -4.70170347e+00],\n",
            "       [ 4.79290982e+00, -5.61888606e+00],\n",
            "       [ 9.52726545e+00, -2.44630131e+00],\n",
            "       [ 1.17045705e+00, -6.60717108e+00],\n",
            "       [ 2.95325152e+00, -6.79538648e+00],\n",
            "       [ 2.62599755e+00, -6.98512507e+00],\n",
            "       [ 7.79170204e+00, -7.21614623e+00],\n",
            "       [ 2.32604509e+00, -6.17461717e+00],\n",
            "       [ 7.30854066e+00, -1.84532049e+00],\n",
            "       [ 6.53588267e+00, -8.83979147e+00],\n",
            "       [ 1.83076709e+00, -1.11139843e+00],\n",
            "       [ 5.43995650e+00, -1.06889091e+00],\n",
            "       [ 8.94242794e+00, -2.95956947e+00],\n",
            "       [ 1.29690251e+00, -4.31120603e+00],\n",
            "       [ 1.28195103e+01, -5.18434427e+00],\n",
            "       [ 6.79975761e-01, -4.22162853e+00],\n",
            "       [ 1.99357986e+00, -8.94157251e+00],\n",
            "       [ 2.51593805e+00, -7.01253425e+00],\n",
            "       [ 1.16606001e+01, -5.17682713e+00],\n",
            "       [ 7.70804283e+00, -2.39028868e+00],\n",
            "       [ 1.81834615e+00, -5.29490954e+00],\n",
            "       [ 9.47018622e+00, -1.82328932e+00],\n",
            "       [ 6.41544749e+00, -7.53776031e+00],\n",
            "       [ 1.15441253e+01, -3.25054513e+00],\n",
            "       [ 3.56541409e+00, -2.95495312e+00],\n",
            "       [ 4.16042453e+00, -7.28593521e+00],\n",
            "       [ 1.90528382e+00, -7.19498898e+00],\n",
            "       [ 7.35352262e+00, -6.08217618e+00],\n",
            "       [ 3.91750418e+00, -5.95582351e+00],\n",
            "       [ 1.73679898e+00, -3.54781297e+00],\n",
            "       [ 7.51363963e+00, -2.93319000e+00],\n",
            "       [ 9.57971153e+00, -6.58868244e+00],\n",
            "       [ 9.64579253e+00, -3.98841217e+00],\n",
            "       [ 2.16357730e+00, -5.94812976e+00],\n",
            "       [ 4.38671116e+00, -3.95067701e+00],\n",
            "       [ 2.65506864e+00, -5.18199247e+00],\n",
            "       [ 1.10087782e+01, -5.97068753e+00],\n",
            "       [ 8.15423304e+00, -3.57226826e+00],\n",
            "       [ 5.92308090e+00, -6.11904957e+00],\n",
            "       [ 1.03066107e+01, -4.59294303e+00],\n",
            "       [ 6.14958803e+00, -6.03258461e+00],\n",
            "       [ 4.95864147e+00, -1.24445258e+00],\n",
            "       [ 9.44361165e+00, -3.28742153e-01],\n",
            "       [ 9.14757483e+00, -5.94536585e+00],\n",
            "       [ 7.58192007e+00,  1.94614511e-01],\n",
            "       [ 1.05954415e+01, -4.95348855e+00],\n",
            "       [ 3.60372130e+00, -3.82688172e+00],\n",
            "       [ 2.93927079e-01, -7.38715377e-03],\n",
            "       [ 2.30234602e+00, -5.27598829e+00],\n",
            "       [ 1.06391812e+01, -8.32643716e+00],\n",
            "       [ 2.83908164e+00, -2.93946230e-01],\n",
            "       [ 7.51919968e+00, -5.06720826e+00],\n",
            "       [ 1.83011331e+00, -8.39455636e+00],\n",
            "       [ 7.88313109e+00, -5.39490930e+00],\n",
            "       [ 7.64586917e+00, -1.18474210e+00],\n",
            "       [ 9.58242031e+00, -6.45384727e+00],\n",
            "       [ 6.61716845e+00, -3.07121761e+00],\n",
            "       [ 1.00425497e+01, -2.00739033e+00],\n",
            "       [ 7.78618431e+00, -5.07424466e+00],\n",
            "       [ 5.02113555e+00, -3.38216289e+00],\n",
            "       [ 3.34921878e+00, -3.73714759e+00],\n",
            "       [ 9.44471641e+00, -2.67773886e+00],\n",
            "       [ 7.70197094e+00, -3.06626134e+00],\n",
            "       [ 7.78541796e+00, -3.04762079e+00],\n",
            "       [ 5.25020905e+00, -2.22378329e+00],\n",
            "       [ 2.64644137e+00, -5.86091438e+00],\n",
            "       [ 1.03252767e+01, -3.76100877e-01],\n",
            "       [ 6.43466161e+00, -5.65169794e-02],\n",
            "       [ 9.50072478e+00, -4.66275040e+00],\n",
            "       [ 9.62781325e+00, -8.08729657e+00],\n",
            "       [ 1.05690136e+01, -3.92340368e+00],\n",
            "       [ 6.53023454e+00, -3.37616225e+00],\n",
            "       [ 9.68630443e+00, -3.10734333e+00],\n",
            "       [ 3.38039131e+00, -1.72943809e+00],\n",
            "       [ 4.39824846e+00, -6.12025368e+00],\n",
            "       [ 1.00923124e+01, -2.11624452e+00],\n",
            "       [ 3.91380893e+00, -5.84861336e+00],\n",
            "       [ 8.82112687e+00, -2.48353401e+00],\n",
            "       [ 9.03995252e+00, -3.67351540e+00],\n",
            "       [ 1.05391187e+01, -4.01036845e+00],\n",
            "       [ 4.86727716e+00, -6.01783604e+00],\n",
            "       [ 3.36760082e+00, -3.87278180e+00],\n",
            "       [ 1.12141776e+01, -4.44210158e+00],\n",
            "       [ 4.78491239e+00, -2.80806358e+00],\n",
            "       [ 8.85386398e+00, -2.87519555e+00],\n",
            "       [ 9.78113743e+00, -7.16728768e+00],\n",
            "       [ 2.44183963e+00, -8.00183426e+00],\n",
            "       [ 3.88582807e+00, -5.94480789e+00],\n",
            "       [ 2.49296847e+00, -1.53559006e+00],\n",
            "       [ 3.19132042e+00, -3.07506948e+00],\n",
            "       [ 9.77061108e+00, -5.00081561e+00],\n",
            "       [ 2.24834777e+00, -7.88307068e-01],\n",
            "       [ 1.13794716e+00, -2.41703286e+00],\n",
            "       [ 5.09877783e-01, -4.24970148e+00],\n",
            "       [ 9.36492793e+00, -6.16076896e+00],\n",
            "       [ 8.31616554e+00, -2.53318893e+00],\n",
            "       [ 9.65748787e+00, -2.30956846e+00],\n",
            "       [ 7.67708877e+00, -4.69020380e+00],\n",
            "       [ 2.08184629e+00, -7.09185129e+00],\n",
            "       [ 4.01697838e+00, -9.71905073e+00],\n",
            "       [ 1.16115740e+01, -5.45761137e+00],\n",
            "       [ 2.28606956e+00, -8.56339130e-01],\n",
            "       [ 2.67783835e+00, -6.88355291e+00],\n",
            "       [ 4.28109267e+00, -4.47119265e+00],\n",
            "       [ 1.23265501e+00, -4.35849634e+00],\n",
            "       [ 8.64855344e+00, -7.45606364e+00],\n",
            "       [ 1.11450660e+01, -3.26753033e+00],\n",
            "       [ 3.39806519e+00, -6.26901400e+00],\n",
            "       [ 7.88400843e+00, -7.11127240e+00],\n",
            "       [ 5.52405818e+00, -5.61187133e+00],\n",
            "       [ 2.69032217e+00, -3.72839614e+00],\n",
            "       [ 4.36865443e+00, -3.27717516e+00],\n",
            "       [ 9.87036531e+00, -4.29870076e+00],\n",
            "       [ 1.87417000e+00, -6.17695704e+00],\n",
            "       [ 1.05047338e+00, -7.62278021e+00],\n",
            "       [ 2.62275123e+00, -2.71001247e+00],\n",
            "       [ 1.40425113e+00, -9.14330657e+00],\n",
            "       [ 4.05703548e+00, -5.07488706e+00],\n",
            "       [ 6.53896941e+00, -7.85987808e+00],\n",
            "       [ 9.86349781e+00,  1.20092107e+00],\n",
            "       [ 3.74551729e+00, -3.13270027e+00],\n",
            "       [ 9.31078888e+00, -2.02089834e+00],\n",
            "       [ 1.00949325e+01, -7.80651828e+00],\n",
            "       [ 1.12469972e+01, -7.37881029e+00],\n",
            "       [ 9.95716257e+00, -4.46815707e+00],\n",
            "       [ 7.81698527e+00, -3.89182534e+00],\n",
            "       [ 1.06782543e+01, -8.53619278e+00],\n",
            "       [ 2.26118214e+00, -6.71884614e+00],\n",
            "       [ 5.53635321e+00, -4.86936724e+00],\n",
            "       [ 4.36039751e+00, -4.93572810e+00],\n",
            "       [ 9.83204078e+00, -4.98202557e+00],\n",
            "       [ 4.74565397e+00,  1.76590107e-01],\n",
            "       [ 2.27312883e+00, -5.67154132e+00],\n",
            "       [ 4.09862209e+00, -3.95219777e+00],\n",
            "       [ 4.13114378e+00, -7.63582293e+00],\n",
            "       [ 3.97080523e+00, -6.15681193e+00],\n",
            "       [ 3.49809272e+00, -6.49502765e+00],\n",
            "       [ 8.81566294e+00, -3.60780881e+00],\n",
            "       [ 1.01458593e+01, -5.14326955e+00],\n",
            "       [ 2.42913016e+00, -3.98072680e+00],\n",
            "       [ 2.87420373e+00, -3.08624866e+00],\n",
            "       [ 2.92791237e+00, -3.06004185e+00],\n",
            "       [ 8.76225814e+00, -6.45849196e+00],\n",
            "       [ 1.14199720e+01, -6.58286059e+00],\n",
            "       [-1.47218067e+00,  4.03053551e-02],\n",
            "       [ 7.35443885e+00, -2.82145981e+00],\n",
            "       [ 3.70900561e+00, -9.53496488e-01],\n",
            "       [ 8.21166727e+00, -6.42624299e+00],\n",
            "       [ 4.25255978e+00, -4.46664822e+00],\n",
            "       [ 1.16858605e+01, -5.07693818e+00],\n",
            "       [ 3.60488873e+00, -8.77922417e+00],\n",
            "       [ 1.05822400e+01, -4.53427559e+00],\n",
            "       [ 8.79804399e+00, -2.79332723e+00],\n",
            "       [ 9.61418661e+00, -3.98566427e+00],\n",
            "       [-2.42974227e-01, -9.78357642e-01],\n",
            "       [ 4.20131268e+00, -4.62743423e+00],\n",
            "       [ 9.24370105e+00, -1.85841930e+00],\n",
            "       [ 8.46488213e+00, -6.79770211e+00],\n",
            "       [ 7.55404041e+00, -3.96743736e+00],\n",
            "       [ 2.30251796e+00, -6.12990171e+00],\n",
            "       [ 2.85811724e+00, -2.48416625e+00],\n",
            "       [ 8.51612927e+00, -2.89717046e+00],\n",
            "       [ 1.02017747e+01, -8.12406086e-01],\n",
            "       [ 5.73119267e+00, -2.91730467e+00],\n",
            "       [ 9.62465764e+00, -5.17260135e+00],\n",
            "       [ 9.25878479e+00, -5.08945604e+00],\n",
            "       [ 4.34679774e-01, -6.18033568e+00],\n",
            "       [ 9.48849046e+00, -5.62869566e+00],\n",
            "       [ 2.08348853e+00, -3.77344748e+00],\n",
            "       [ 8.30437901e+00, -5.75240504e+00],\n",
            "       [ 8.03662624e+00, -4.17095602e+00],\n",
            "       [ 9.45131238e+00, -4.66232094e+00],\n",
            "       [ 8.95659239e+00, -4.92396488e+00],\n",
            "       [ 9.22954414e+00, -3.65522852e+00],\n",
            "       [ 3.08431561e+00, -4.04531341e+00],\n",
            "       [ 8.54479643e+00, -1.10839939e+00],\n",
            "       [ 8.69921332e+00, -3.28326445e+00],\n",
            "       [ 1.84902666e+00, -3.66416550e+00],\n",
            "       [ 9.89522310e+00, -3.65950103e+00],\n",
            "       [ 9.59679253e+00, -5.54854538e+00],\n",
            "       [ 7.90605862e+00, -7.32071602e+00],\n",
            "       [ 8.72838810e+00, -2.15611699e+00],\n",
            "       [ 1.14992058e+00, -1.03377218e+00],\n",
            "       [ 1.29347117e+01, -4.96780409e+00],\n",
            "       [ 2.26761719e+00, -3.96764321e+00],\n",
            "       [ 4.06176206e+00, -2.77282947e+00],\n",
            "       [ 1.05043642e+01, -4.35583605e+00],\n",
            "       [ 3.83809909e+00, -5.50742952e+00],\n",
            "       [ 4.15338949e+00, -3.61536655e+00],\n",
            "       [ 1.09443512e+01, -6.66145213e+00],\n",
            "       [ 9.00918761e+00, -6.63829873e+00],\n",
            "       [ 4.55307888e+00, -5.26678478e+00],\n",
            "       [ 4.45892040e+00, -3.19034189e+00],\n",
            "       [ 9.17846209e+00, -6.19029679e+00],\n",
            "       [ 2.45440245e+00, -1.57747899e+00],\n",
            "       [ 2.21445498e+00, -6.18120362e+00],\n",
            "       [ 3.16448595e+00, -5.97242090e+00]]), array([3, 3, 1, 3, 1, 2, 1, 1, 1, 1, 1, 3, 1, 0, 0, 2, 0, 3, 1, 1, 1, 3,\n",
            "       2, 1, 2, 1, 2, 0, 1, 1, 3, 1, 0, 2, 3, 2, 1, 0, 1, 2, 2, 1, 3, 3,\n",
            "       0, 2, 3, 2, 2, 1, 0, 0, 3, 0, 3, 1, 3, 2, 3, 2, 2, 2, 0, 1, 3, 2,\n",
            "       2, 0, 1, 2, 3, 3, 3, 2, 2, 2, 0, 1, 2, 1, 3, 2, 2, 1, 0, 2, 0, 2,\n",
            "       3, 1, 1, 0, 0, 3, 0, 0, 0, 3, 2, 2, 3, 1, 1, 3, 0, 1, 0, 0, 3, 2,\n",
            "       0, 3, 1, 0, 0, 2, 1, 1, 0, 1, 0, 1, 2, 0, 3, 3, 3, 2, 2, 3, 1, 1,\n",
            "       0, 3, 0, 1, 0, 1, 1, 1, 2, 3, 0, 0, 0, 3, 3, 0, 2, 0, 3, 0, 3, 1,\n",
            "       2, 3, 2, 0, 0, 2, 3, 2, 1, 0, 2, 2, 0, 2, 3, 1, 2, 1, 3, 2, 3, 3,\n",
            "       2, 0, 2, 2, 0, 2, 3, 3, 3, 0, 3, 0, 0, 2, 1, 1, 3, 3, 0, 0, 3, 0,\n",
            "       1, 1]))\n"
          ]
        }
      ]
    },
    {
      "cell_type": "code",
      "source": [
        " #extract only the first array i.e. data values\n",
        "data=alldata[0]"
      ],
      "metadata": {
        "id": "ICradqMkEK9b"
      },
      "execution_count": 7,
      "outputs": []
    },
    {
      "cell_type": "code",
      "source": [
        " data"
      ],
      "metadata": {
        "colab": {
          "base_uri": "https://localhost:8080/"
        },
        "id": "moqSlh6MEQVF",
        "outputId": "9708c62a-c01c-4c54-e484-02d40b2cfc73"
      },
      "execution_count": 8,
      "outputs": [
        {
          "output_type": "execute_result",
          "data": {
            "text/plain": [
              "array([[ 8.51407976e+00, -6.18828280e+00],\n",
              "       [ 7.73736837e+00, -4.52365640e+00],\n",
              "       [ 2.40291137e+00, -7.94945122e+00],\n",
              "       [ 8.29380054e+00, -4.70170347e+00],\n",
              "       [ 4.79290982e+00, -5.61888606e+00],\n",
              "       [ 9.52726545e+00, -2.44630131e+00],\n",
              "       [ 1.17045705e+00, -6.60717108e+00],\n",
              "       [ 2.95325152e+00, -6.79538648e+00],\n",
              "       [ 2.62599755e+00, -6.98512507e+00],\n",
              "       [ 7.79170204e+00, -7.21614623e+00],\n",
              "       [ 2.32604509e+00, -6.17461717e+00],\n",
              "       [ 7.30854066e+00, -1.84532049e+00],\n",
              "       [ 6.53588267e+00, -8.83979147e+00],\n",
              "       [ 1.83076709e+00, -1.11139843e+00],\n",
              "       [ 5.43995650e+00, -1.06889091e+00],\n",
              "       [ 8.94242794e+00, -2.95956947e+00],\n",
              "       [ 1.29690251e+00, -4.31120603e+00],\n",
              "       [ 1.28195103e+01, -5.18434427e+00],\n",
              "       [ 6.79975761e-01, -4.22162853e+00],\n",
              "       [ 1.99357986e+00, -8.94157251e+00],\n",
              "       [ 2.51593805e+00, -7.01253425e+00],\n",
              "       [ 1.16606001e+01, -5.17682713e+00],\n",
              "       [ 7.70804283e+00, -2.39028868e+00],\n",
              "       [ 1.81834615e+00, -5.29490954e+00],\n",
              "       [ 9.47018622e+00, -1.82328932e+00],\n",
              "       [ 6.41544749e+00, -7.53776031e+00],\n",
              "       [ 1.15441253e+01, -3.25054513e+00],\n",
              "       [ 3.56541409e+00, -2.95495312e+00],\n",
              "       [ 4.16042453e+00, -7.28593521e+00],\n",
              "       [ 1.90528382e+00, -7.19498898e+00],\n",
              "       [ 7.35352262e+00, -6.08217618e+00],\n",
              "       [ 3.91750418e+00, -5.95582351e+00],\n",
              "       [ 1.73679898e+00, -3.54781297e+00],\n",
              "       [ 7.51363963e+00, -2.93319000e+00],\n",
              "       [ 9.57971153e+00, -6.58868244e+00],\n",
              "       [ 9.64579253e+00, -3.98841217e+00],\n",
              "       [ 2.16357730e+00, -5.94812976e+00],\n",
              "       [ 4.38671116e+00, -3.95067701e+00],\n",
              "       [ 2.65506864e+00, -5.18199247e+00],\n",
              "       [ 1.10087782e+01, -5.97068753e+00],\n",
              "       [ 8.15423304e+00, -3.57226826e+00],\n",
              "       [ 5.92308090e+00, -6.11904957e+00],\n",
              "       [ 1.03066107e+01, -4.59294303e+00],\n",
              "       [ 6.14958803e+00, -6.03258461e+00],\n",
              "       [ 4.95864147e+00, -1.24445258e+00],\n",
              "       [ 9.44361165e+00, -3.28742153e-01],\n",
              "       [ 9.14757483e+00, -5.94536585e+00],\n",
              "       [ 7.58192007e+00,  1.94614511e-01],\n",
              "       [ 1.05954415e+01, -4.95348855e+00],\n",
              "       [ 3.60372130e+00, -3.82688172e+00],\n",
              "       [ 2.93927079e-01, -7.38715377e-03],\n",
              "       [ 2.30234602e+00, -5.27598829e+00],\n",
              "       [ 1.06391812e+01, -8.32643716e+00],\n",
              "       [ 2.83908164e+00, -2.93946230e-01],\n",
              "       [ 7.51919968e+00, -5.06720826e+00],\n",
              "       [ 1.83011331e+00, -8.39455636e+00],\n",
              "       [ 7.88313109e+00, -5.39490930e+00],\n",
              "       [ 7.64586917e+00, -1.18474210e+00],\n",
              "       [ 9.58242031e+00, -6.45384727e+00],\n",
              "       [ 6.61716845e+00, -3.07121761e+00],\n",
              "       [ 1.00425497e+01, -2.00739033e+00],\n",
              "       [ 7.78618431e+00, -5.07424466e+00],\n",
              "       [ 5.02113555e+00, -3.38216289e+00],\n",
              "       [ 3.34921878e+00, -3.73714759e+00],\n",
              "       [ 9.44471641e+00, -2.67773886e+00],\n",
              "       [ 7.70197094e+00, -3.06626134e+00],\n",
              "       [ 7.78541796e+00, -3.04762079e+00],\n",
              "       [ 5.25020905e+00, -2.22378329e+00],\n",
              "       [ 2.64644137e+00, -5.86091438e+00],\n",
              "       [ 1.03252767e+01, -3.76100877e-01],\n",
              "       [ 6.43466161e+00, -5.65169794e-02],\n",
              "       [ 9.50072478e+00, -4.66275040e+00],\n",
              "       [ 9.62781325e+00, -8.08729657e+00],\n",
              "       [ 1.05690136e+01, -3.92340368e+00],\n",
              "       [ 6.53023454e+00, -3.37616225e+00],\n",
              "       [ 9.68630443e+00, -3.10734333e+00],\n",
              "       [ 3.38039131e+00, -1.72943809e+00],\n",
              "       [ 4.39824846e+00, -6.12025368e+00],\n",
              "       [ 1.00923124e+01, -2.11624452e+00],\n",
              "       [ 3.91380893e+00, -5.84861336e+00],\n",
              "       [ 8.82112687e+00, -2.48353401e+00],\n",
              "       [ 9.03995252e+00, -3.67351540e+00],\n",
              "       [ 1.05391187e+01, -4.01036845e+00],\n",
              "       [ 4.86727716e+00, -6.01783604e+00],\n",
              "       [ 3.36760082e+00, -3.87278180e+00],\n",
              "       [ 1.12141776e+01, -4.44210158e+00],\n",
              "       [ 4.78491239e+00, -2.80806358e+00],\n",
              "       [ 8.85386398e+00, -2.87519555e+00],\n",
              "       [ 9.78113743e+00, -7.16728768e+00],\n",
              "       [ 2.44183963e+00, -8.00183426e+00],\n",
              "       [ 3.88582807e+00, -5.94480789e+00],\n",
              "       [ 2.49296847e+00, -1.53559006e+00],\n",
              "       [ 3.19132042e+00, -3.07506948e+00],\n",
              "       [ 9.77061108e+00, -5.00081561e+00],\n",
              "       [ 2.24834777e+00, -7.88307068e-01],\n",
              "       [ 1.13794716e+00, -2.41703286e+00],\n",
              "       [ 5.09877783e-01, -4.24970148e+00],\n",
              "       [ 9.36492793e+00, -6.16076896e+00],\n",
              "       [ 8.31616554e+00, -2.53318893e+00],\n",
              "       [ 9.65748787e+00, -2.30956846e+00],\n",
              "       [ 7.67708877e+00, -4.69020380e+00],\n",
              "       [ 2.08184629e+00, -7.09185129e+00],\n",
              "       [ 4.01697838e+00, -9.71905073e+00],\n",
              "       [ 1.16115740e+01, -5.45761137e+00],\n",
              "       [ 2.28606956e+00, -8.56339130e-01],\n",
              "       [ 2.67783835e+00, -6.88355291e+00],\n",
              "       [ 4.28109267e+00, -4.47119265e+00],\n",
              "       [ 1.23265501e+00, -4.35849634e+00],\n",
              "       [ 8.64855344e+00, -7.45606364e+00],\n",
              "       [ 1.11450660e+01, -3.26753033e+00],\n",
              "       [ 3.39806519e+00, -6.26901400e+00],\n",
              "       [ 7.88400843e+00, -7.11127240e+00],\n",
              "       [ 5.52405818e+00, -5.61187133e+00],\n",
              "       [ 2.69032217e+00, -3.72839614e+00],\n",
              "       [ 4.36865443e+00, -3.27717516e+00],\n",
              "       [ 9.87036531e+00, -4.29870076e+00],\n",
              "       [ 1.87417000e+00, -6.17695704e+00],\n",
              "       [ 1.05047338e+00, -7.62278021e+00],\n",
              "       [ 2.62275123e+00, -2.71001247e+00],\n",
              "       [ 1.40425113e+00, -9.14330657e+00],\n",
              "       [ 4.05703548e+00, -5.07488706e+00],\n",
              "       [ 6.53896941e+00, -7.85987808e+00],\n",
              "       [ 9.86349781e+00,  1.20092107e+00],\n",
              "       [ 3.74551729e+00, -3.13270027e+00],\n",
              "       [ 9.31078888e+00, -2.02089834e+00],\n",
              "       [ 1.00949325e+01, -7.80651828e+00],\n",
              "       [ 1.12469972e+01, -7.37881029e+00],\n",
              "       [ 9.95716257e+00, -4.46815707e+00],\n",
              "       [ 7.81698527e+00, -3.89182534e+00],\n",
              "       [ 1.06782543e+01, -8.53619278e+00],\n",
              "       [ 2.26118214e+00, -6.71884614e+00],\n",
              "       [ 5.53635321e+00, -4.86936724e+00],\n",
              "       [ 4.36039751e+00, -4.93572810e+00],\n",
              "       [ 9.83204078e+00, -4.98202557e+00],\n",
              "       [ 4.74565397e+00,  1.76590107e-01],\n",
              "       [ 2.27312883e+00, -5.67154132e+00],\n",
              "       [ 4.09862209e+00, -3.95219777e+00],\n",
              "       [ 4.13114378e+00, -7.63582293e+00],\n",
              "       [ 3.97080523e+00, -6.15681193e+00],\n",
              "       [ 3.49809272e+00, -6.49502765e+00],\n",
              "       [ 8.81566294e+00, -3.60780881e+00],\n",
              "       [ 1.01458593e+01, -5.14326955e+00],\n",
              "       [ 2.42913016e+00, -3.98072680e+00],\n",
              "       [ 2.87420373e+00, -3.08624866e+00],\n",
              "       [ 2.92791237e+00, -3.06004185e+00],\n",
              "       [ 8.76225814e+00, -6.45849196e+00],\n",
              "       [ 1.14199720e+01, -6.58286059e+00],\n",
              "       [-1.47218067e+00,  4.03053551e-02],\n",
              "       [ 7.35443885e+00, -2.82145981e+00],\n",
              "       [ 3.70900561e+00, -9.53496488e-01],\n",
              "       [ 8.21166727e+00, -6.42624299e+00],\n",
              "       [ 4.25255978e+00, -4.46664822e+00],\n",
              "       [ 1.16858605e+01, -5.07693818e+00],\n",
              "       [ 3.60488873e+00, -8.77922417e+00],\n",
              "       [ 1.05822400e+01, -4.53427559e+00],\n",
              "       [ 8.79804399e+00, -2.79332723e+00],\n",
              "       [ 9.61418661e+00, -3.98566427e+00],\n",
              "       [-2.42974227e-01, -9.78357642e-01],\n",
              "       [ 4.20131268e+00, -4.62743423e+00],\n",
              "       [ 9.24370105e+00, -1.85841930e+00],\n",
              "       [ 8.46488213e+00, -6.79770211e+00],\n",
              "       [ 7.55404041e+00, -3.96743736e+00],\n",
              "       [ 2.30251796e+00, -6.12990171e+00],\n",
              "       [ 2.85811724e+00, -2.48416625e+00],\n",
              "       [ 8.51612927e+00, -2.89717046e+00],\n",
              "       [ 1.02017747e+01, -8.12406086e-01],\n",
              "       [ 5.73119267e+00, -2.91730467e+00],\n",
              "       [ 9.62465764e+00, -5.17260135e+00],\n",
              "       [ 9.25878479e+00, -5.08945604e+00],\n",
              "       [ 4.34679774e-01, -6.18033568e+00],\n",
              "       [ 9.48849046e+00, -5.62869566e+00],\n",
              "       [ 2.08348853e+00, -3.77344748e+00],\n",
              "       [ 8.30437901e+00, -5.75240504e+00],\n",
              "       [ 8.03662624e+00, -4.17095602e+00],\n",
              "       [ 9.45131238e+00, -4.66232094e+00],\n",
              "       [ 8.95659239e+00, -4.92396488e+00],\n",
              "       [ 9.22954414e+00, -3.65522852e+00],\n",
              "       [ 3.08431561e+00, -4.04531341e+00],\n",
              "       [ 8.54479643e+00, -1.10839939e+00],\n",
              "       [ 8.69921332e+00, -3.28326445e+00],\n",
              "       [ 1.84902666e+00, -3.66416550e+00],\n",
              "       [ 9.89522310e+00, -3.65950103e+00],\n",
              "       [ 9.59679253e+00, -5.54854538e+00],\n",
              "       [ 7.90605862e+00, -7.32071602e+00],\n",
              "       [ 8.72838810e+00, -2.15611699e+00],\n",
              "       [ 1.14992058e+00, -1.03377218e+00],\n",
              "       [ 1.29347117e+01, -4.96780409e+00],\n",
              "       [ 2.26761719e+00, -3.96764321e+00],\n",
              "       [ 4.06176206e+00, -2.77282947e+00],\n",
              "       [ 1.05043642e+01, -4.35583605e+00],\n",
              "       [ 3.83809909e+00, -5.50742952e+00],\n",
              "       [ 4.15338949e+00, -3.61536655e+00],\n",
              "       [ 1.09443512e+01, -6.66145213e+00],\n",
              "       [ 9.00918761e+00, -6.63829873e+00],\n",
              "       [ 4.55307888e+00, -5.26678478e+00],\n",
              "       [ 4.45892040e+00, -3.19034189e+00],\n",
              "       [ 9.17846209e+00, -6.19029679e+00],\n",
              "       [ 2.45440245e+00, -1.57747899e+00],\n",
              "       [ 2.21445498e+00, -6.18120362e+00],\n",
              "       [ 3.16448595e+00, -5.97242090e+00]])"
            ]
          },
          "metadata": {},
          "execution_count": 8
        }
      ]
    },
    {
      "cell_type": "code",
      "source": [
        "%matplotlib inline\n",
        "#plot datapoints without labels\n",
        "plt.scatter(data[:,0], data[:,1])\n"
      ],
      "metadata": {
        "colab": {
          "base_uri": "https://localhost:8080/",
          "height": 282
        },
        "id": "AMJN2cfMEXfs",
        "outputId": "75c900df-49b3-4c53-d56b-9d296b8e318d"
      },
      "execution_count": 9,
      "outputs": [
        {
          "output_type": "execute_result",
          "data": {
            "text/plain": [
              "<matplotlib.collections.PathCollection at 0x7f3218ae9810>"
            ]
          },
          "metadata": {},
          "execution_count": 9
        },
        {
          "output_type": "display_data",
          "data": {
            "text/plain": [
              "<Figure size 432x288 with 1 Axes>"
            ],
            "image/png": "[encoded data removed]"
          },
          "metadata": {
            "needs_background": "light"
          }
        }
      ]
    },
    {
      "cell_type": "code",
      "source": [
        " #create kmeans object\n",
        "kmeans=KMeans(n_clusters=4)\n"
      ],
      "metadata": {
        "id": "5v9u4JLJEaIz"
      },
      "execution_count": 10,
      "outputs": []
    },
    {
      "cell_type": "code",
      "source": [
        " #compute cluster centre and predict cluster label for each sample\n",
        "y_pred=kmeans.fit_predict(data)\n",
        "print(y_pred)\n"
      ],
      "metadata": {
        "colab": {
          "base_uri": "https://localhost:8080/"
        },
        "id": "_Ar_Iy-SEfG7",
        "outputId": "6c84c1e3-a3e0-478f-c16e-dc1ffd7fbb2d"
      },
      "execution_count": 11,
      "outputs": [
        {
          "output_type": "stream",
          "name": "stdout",
          "text": [
            "[3 1 2 3 2 1 2 2 2 3 2 1 2 0 0 1 0 3 0 2 2 3 1 2 1 2 1 0 2 2 3 2 0 1 3 1 2\n",
            " 0 2 3 1 2 3 2 0 1 3 1 3 0 0 2 3 0 3 2 3 1 3 1 1 3 0 0 1 1 1 0 2 1 1 3 3 3\n",
            " 1 1 0 2 1 2 1 1 3 2 0 3 0 1 3 2 2 0 0 3 0 0 0 3 1 1 3 2 2 3 0 2 2 0 3 1 2\n",
            " 3 2 0 0 3 2 2 0 2 2 2 1 0 1 3 3 3 1 3 2 2 2 3 0 2 0 2 2 2 1 3 0 0 0 3 3 0\n",
            " 1 0 3 2 3 2 3 1 1 0 2 1 3 1 2 0 1 1 0 3 3 2 3 0 3 1 3 3 1 0 1 1 0 1 3 3 1\n",
            " 0 3 0 0 3 2 0 3 3 2 0 3 0 2 2]\n"
          ]
        }
      ]
    },
    {
      "cell_type": "code",
      "source": [
        "clusters = kmeans.cluster_centers_"
      ],
      "metadata": {
        "id": "pbz_eLNZEkgU"
      },
      "execution_count": 12,
      "outputs": []
    },
    {
      "cell_type": "code",
      "source": [
        " clusters"
      ],
      "metadata": {
        "colab": {
          "base_uri": "https://localhost:8080/"
        },
        "id": "jGRRbAd-Emdl",
        "outputId": "61fdcd50-1f1e-47a4-8c91-1a730670ca33"
      },
      "execution_count": 13,
      "outputs": [
        {
          "output_type": "execute_result",
          "data": {
            "text/plain": [
              "array([[ 2.88368772, -2.62249863],\n",
              "       [ 8.75957261, -2.53447398],\n",
              "       [ 3.40024824, -6.49923365],\n",
              "       [ 9.68112656, -5.78684846]])"
            ]
          },
          "metadata": {},
          "execution_count": 13
        }
      ]
    },
    {
      "cell_type": "code",
      "source": [
        "plt.scatter(data[y_pred==0,0], data[y_pred==0,1], s=70, color='green')\n",
        "plt.scatter(data[y_pred==1,0], data[y_pred==1,1], s=70, color='red')\n",
        "plt.scatter(data[y_pred==2,0], data[y_pred==2,1], s=70, color='yellow')\n",
        "plt.scatter(data[y_pred==3,0], data[y_pred==3,1], s=70, color='blue')\n",
        "plt.scatter(clusters[0][0],clusters[0][1], marker='*', color='black')\n",
        "plt.scatter(clusters[1][0],clusters[1][1], marker='*', color='black')\n",
        "plt.scatter(clusters[2][0],clusters[2][1], marker='*', color='black')\n",
        "plt.scatter(clusters[3][0],clusters[3][1], marker='*', color='black')"
      ],
      "metadata": {
        "colab": {
          "base_uri": "https://localhost:8080/",
          "height": 282
        },
        "id": "ruw_U-sKEqej",
        "outputId": "9d46899b-ccdd-49b0-b9e9-3a47c1b3b791"
      },
      "execution_count": 14,
      "outputs": [
        {
          "output_type": "execute_result",
          "data": {
            "text/plain": [
              "<matplotlib.collections.PathCollection at 0x7f32185b8e10>"
            ]
          },
          "metadata": {},
          "execution_count": 14
        },
        {
          "output_type": "display_data",
          "data": {
            "text/plain": [
              "<Figure size 432x288 with 1 Axes>"
            ],
            "image/png": "[encoded data removed]"
          },
          "metadata": {
            "needs_background": "light"
          }
        }
      ]
    },
    {
      "cell_type": "code",
      "source": [
        "plt.scatter(clusters[0][0],clusters[0][1], marker='*', color='black')\n",
        "plt.scatter(clusters[1][0],clusters[1][1], marker='*', color='black')\n",
        "plt.scatter(clusters[2][0],clusters[2][1], marker='*', color='black')\n",
        "plt.scatter(clusters[3][0],clusters[3][1], marker='*', color='black')\n"
      ],
      "metadata": {
        "colab": {
          "base_uri": "https://localhost:8080/",
          "height": 282
        },
        "id": "4PWfVuz7Es5D",
        "outputId": "7d4db284-56ad-4c65-a6e1-90d381325118"
      },
      "execution_count": 15,
      "outputs": [
        {
          "output_type": "execute_result",
          "data": {
            "text/plain": [
              "<matplotlib.collections.PathCollection at 0x7f321853fad0>"
            ]
          },
          "metadata": {},
          "execution_count": 15
        },
        {
          "output_type": "display_data",
          "data": {
            "text/plain": [
              "<Figure size 432x288 with 1 Axes>"
            ],
            "image/png": "[encoded data removed]"
          },
          "metadata": {
            "needs_background": "light"
          }
        }
      ]
    }
  ]
}