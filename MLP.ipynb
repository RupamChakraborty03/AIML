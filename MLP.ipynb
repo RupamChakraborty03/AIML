{
  "nbformat": 4,
  "nbformat_minor": 0,
  "metadata": {
    "colab": {
      "name": "MLP.ipynb",
      "provenance": [],
      "collapsed_sections": []
    },
    "kernelspec": {
      "name": "python3",
      "display_name": "Python 3"
    },
    "language_info": {
      "name": "python"
    }
  },
  "cells": [
    {
      "cell_type": "code",
      "execution_count": 1,
      "metadata": {
        "id": "vuAHgMsGFBIp"
      },
      "outputs": [],
      "source": [
        "import pandas as pd\n",
        "from sklearn.datasets import load_breast_cancer"
      ]
    },
    {
      "cell_type": "code",
      "source": [
        "cancer_dataset = load_breast_cancer()"
      ],
      "metadata": {
        "id": "DM2zn84NFMLs"
      },
      "execution_count": 2,
      "outputs": []
    },
    {
      "cell_type": "code",
      "source": [
        "from sklearn.model_selection import train_test_split\n",
        "#split the dataset using train_test_split function, pass train data, labels,␣\n",
        ",→and test data ratio\n",
        "X_train, X_test, y_train, y_test = train_test_split(\n",
        "cancer_dataset.data,cancer_dataset.target,test_size=0.25)\n"
      ],
      "metadata": {
        "id": "bw1TueSBFPIk"
      },
      "execution_count": 3,
      "outputs": []
    },
    {
      "cell_type": "code",
      "source": [
        "#Importing MLPClassifier\n",
        "from sklearn.neural_network import MLPClassifier\n",
        "#Initializing the MLPClassifier\n",
        "#solver is for weight optimization\n",
        "#max_iter sets limit till convergence or this value\n",
        "#activation is the activation function for the hidden layer\n",
        "classifier = MLPClassifier(hidden_layer_sizes=(150,100,50), max_iter=300,\n",
        "activation = 'relu',solver='adam',random_state=1)\n",
        "classifier.fit(X_train, y_train)"
      ],
      "metadata": {
        "colab": {
          "base_uri": "https://localhost:8080/"
        },
        "id": "K0r4oxkkFSrk",
        "outputId": "443ac1af-2cef-4036-d67b-2517862ed79a"
      },
      "execution_count": 4,
      "outputs": [
        {
          "output_type": "execute_result",
          "data": {
            "text/plain": [
              "MLPClassifier(hidden_layer_sizes=(150, 100, 50), max_iter=300, random_state=1)"
            ]
          },
          "metadata": {},
          "execution_count": 4
        }
      ]
    },
    {
      "cell_type": "code",
      "source": [
        " y_pred = classifier.predict(X_test)\n"
      ],
      "metadata": {
        "id": "NxxG91ajFWfF"
      },
      "execution_count": 5,
      "outputs": []
    },
    {
      "cell_type": "code",
      "source": [
        " from sklearn.metrics import confusion_matrix\n",
        "#Get the confusion matrix\n",
        "cf_matrix = confusion_matrix(y_test, y_pred)\n",
        "print(cf_matrix)\n"
      ],
      "metadata": {
        "colab": {
          "base_uri": "https://localhost:8080/"
        },
        "id": "ldgcpvq2Fb88",
        "outputId": "f7def6d7-06f8-4307-d7bf-ee2f2af16f40"
      },
      "execution_count": 6,
      "outputs": [
        {
          "output_type": "stream",
          "name": "stdout",
          "text": [
            "[[42  6]\n",
            " [ 8 87]]\n"
          ]
        }
      ]
    }
  ]
}