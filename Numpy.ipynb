{
  "nbformat": 4,
  "nbformat_minor": 0,
  "metadata": {
    "colab": {
      "name": "Numpy.ipynb",
      "provenance": [],
      "collapsed_sections": []
    },
    "kernelspec": {
      "name": "python3",
      "display_name": "Python 3"
    },
    "language_info": {
      "name": "python"
    }
  },
  "cells": [
    {
      "cell_type": "code",
      "execution_count": null,
      "metadata": {
        "id": "6RXKnJgem6zz"
      },
      "outputs": [],
      "source": [
        "import numpy as np"
      ]
    },
    {
      "cell_type": "code",
      "source": [
        "#Make the array [0, 1, 2] with np.array\n",
        "arr=np.array([0,1,2])"
      ],
      "metadata": {
        "id": "Y7uHHeCJnkQD"
      },
      "execution_count": null,
      "outputs": []
    },
    {
      "cell_type": "code",
      "source": [
        "#checking data type of values\n",
        "print(arr.dtype)"
      ],
      "metadata": {
        "colab": {
          "base_uri": "https://localhost:8080/"
        },
        "id": "VauON71nn3Sj",
        "outputId": "7abf5868-1c80-4856-cd05-4c74c9fdb269"
      },
      "execution_count": null,
      "outputs": [
        {
          "output_type": "stream",
          "name": "stdout",
          "text": [
            "int64\n"
          ]
        }
      ]
    },
    {
      "cell_type": "code",
      "source": [
        " # 1b. Make the array [0, 1, 2] with np.array\n",
        " arr=np.arange(0,3)"
      ],
      "metadata": {
        "id": "rpthvAK_oQ4b"
      },
      "execution_count": null,
      "outputs": []
    },
    {
      "cell_type": "code",
      "source": [
        "#np.arange(starting value, end value+1, step-size)\n",
        "arr=np.arange(0,10,3)\n",
        "print(arr)"
      ],
      "metadata": {
        "colab": {
          "base_uri": "https://localhost:8080/"
        },
        "id": "eacJEOLgoeOh",
        "outputId": "729f3779-2153-4252-8d5d-a8a798061e5e"
      },
      "execution_count": null,
      "outputs": [
        {
          "output_type": "stream",
          "name": "stdout",
          "text": [
            "[0 3 6 9]\n"
          ]
        }
      ]
    },
    {
      "cell_type": "code",
      "source": [
        "#Make The ELements Zeros\n",
        "#note that default zeros are of float type\n",
        "arr=np.zeros(3)"
      ],
      "metadata": {
        "id": "tpFuQpGroxyt"
      },
      "execution_count": null,
      "outputs": []
    },
    {
      "cell_type": "code",
      "source": [
        "print(arr)"
      ],
      "metadata": {
        "colab": {
          "base_uri": "https://localhost:8080/"
        },
        "id": "V27RY5MZo9mV",
        "outputId": "1ae594b5-3e06-41a8-9af9-26e090ba34b0"
      },
      "execution_count": null,
      "outputs": [
        {
          "output_type": "stream",
          "name": "stdout",
          "text": [
            "[0. 0. 0.]\n"
          ]
        }
      ]
    },
    {
      "cell_type": "code",
      "source": [
        "arr=np.zeros(3,dtype='int64')"
      ],
      "metadata": {
        "id": "h89UXGQ1pDQc"
      },
      "execution_count": null,
      "outputs": []
    },
    {
      "cell_type": "code",
      "source": [
        "print(arr)"
      ],
      "metadata": {
        "colab": {
          "base_uri": "https://localhost:8080/"
        },
        "id": "3Nii2D1ypOn0",
        "outputId": "5d3e5cce-3354-464e-b346-9841b21ab943"
      },
      "execution_count": null,
      "outputs": [
        {
          "output_type": "stream",
          "name": "stdout",
          "text": [
            "[0 0 0]\n"
          ]
        }
      ]
    },
    {
      "cell_type": "code",
      "source": [
        "#Make the matrix [[0, 1], [2, 3]] with np.array\n",
        "arr=np.array([[0,1],[2,3]],dtype='float')"
      ],
      "metadata": {
        "id": "I7gKNodVpTjS"
      },
      "execution_count": null,
      "outputs": []
    },
    {
      "cell_type": "code",
      "source": [
        "#Make the matrix [[0, 1], [2, 3]] with np.arange and np.reshape\n",
        "arr=np.arange(0,4).reshape(2,2)"
      ],
      "metadata": {
        "id": "osZvKnoXqNwC"
      },
      "execution_count": null,
      "outputs": []
    },
    {
      "cell_type": "code",
      "source": [
        "print(arr)"
      ],
      "metadata": {
        "colab": {
          "base_uri": "https://localhost:8080/"
        },
        "id": "mfrcDKEzqZc7",
        "outputId": "1a9226d3-807e-40e9-af7d-852251096602"
      },
      "execution_count": null,
      "outputs": [
        {
          "output_type": "stream",
          "name": "stdout",
          "text": [
            "[[0 1]\n",
            " [2 3]]\n"
          ]
        }
      ]
    },
    {
      "cell_type": "code",
      "source": [
        "#Print the shape of the matrix from the previous part with .shape\n",
        "print(arr.shape)"
      ],
      "metadata": {
        "colab": {
          "base_uri": "https://localhost:8080/"
        },
        "id": "piE0SqzOqi67",
        "outputId": "41d9dc20-7982-4a18-c63f-a549b33748fc"
      },
      "execution_count": null,
      "outputs": [
        {
          "output_type": "stream",
          "name": "stdout",
          "text": [
            "(2, 2)\n"
          ]
        }
      ]
    },
    {
      "cell_type": "code",
      "source": [
        "#determine type of np.shape output\n",
        "type=np.shape(arr)"
      ],
      "metadata": {
        "id": "CoseNJWrquW0"
      },
      "execution_count": null,
      "outputs": []
    },
    {
      "cell_type": "code",
      "source": [
        "arr=np.array([0,1,2])\n",
        "print(np.average(arr))"
      ],
      "metadata": {
        "colab": {
          "base_uri": "https://localhost:8080/"
        },
        "id": "B66jHnnMrQaL",
        "outputId": "28efbb60-fcb4-4a65-bb49-3e20943e59d4"
      },
      "execution_count": null,
      "outputs": [
        {
          "output_type": "stream",
          "name": "stdout",
          "text": [
            "1.0\n"
          ]
        }
      ]
    },
    {
      "cell_type": "code",
      "source": [
        "#Add two vectors element-wise\n",
        "arr1=np.array([0,1,2])\n",
        "arr2=np.array([3,4,5])"
      ],
      "metadata": {
        "id": "dmqwQ5cirmN0"
      },
      "execution_count": null,
      "outputs": []
    },
    {
      "cell_type": "code",
      "source": [
        "arr=np.add(arr1,arr2)"
      ],
      "metadata": {
        "id": "ntZt4S5rrvqd"
      },
      "execution_count": null,
      "outputs": []
    },
    {
      "cell_type": "code",
      "source": [
        "#add works multiple operands\n",
        "#sum works with only 1array\n",
        "sum=np.sum(arr)\n",
        "print(sum)"
      ],
      "metadata": {
        "colab": {
          "base_uri": "https://localhost:8080/"
        },
        "id": "zEMoWAhusBGt",
        "outputId": "69684727-ede8-4dcb-9054-78fc3338393a"
      },
      "execution_count": null,
      "outputs": [
        {
          "output_type": "stream",
          "name": "stdout",
          "text": [
            "15\n"
          ]
        }
      ]
    },
    {
      "cell_type": "code",
      "source": [
        "m=int(input(\"Enter A number\"))"
      ],
      "metadata": {
        "colab": {
          "base_uri": "https://localhost:8080/"
        },
        "id": "PgHm85PisWil",
        "outputId": "5cda013a-6681-46af-b7d4-9021eb19a241"
      },
      "execution_count": null,
      "outputs": [
        {
          "name": "stdout",
          "output_type": "stream",
          "text": [
            "Enter A number27\n"
          ]
        }
      ]
    },
    {
      "cell_type": "code",
      "source": [
        "print(np.sqrt(m))"
      ],
      "metadata": {
        "colab": {
          "base_uri": "https://localhost:8080/"
        },
        "id": "xajcwlZ3sg1c",
        "outputId": "e2fe2c4d-75af-4589-f668-2ac681821210"
      },
      "execution_count": null,
      "outputs": [
        {
          "output_type": "stream",
          "name": "stdout",
          "text": [
            "5.196152422706632\n"
          ]
        }
      ]
    },
    {
      "cell_type": "code",
      "source": [
        ""
      ],
      "metadata": {
        "id": "NiP5z4NHvQmm"
      },
      "execution_count": null,
      "outputs": []
    }
  ]
}