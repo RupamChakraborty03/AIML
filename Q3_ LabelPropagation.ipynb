{
  "nbformat": 4,
  "nbformat_minor": 0,
  "metadata": {
    "colab": {
      "name": "Q3.ipynb",
      "provenance": [],
      "collapsed_sections": []
    },
    "kernelspec": {
      "name": "python3",
      "display_name": "Python 3"
    },
    "language_info": {
      "name": "python"
    }
  },
  "cells": [
    {
      "cell_type": "code",
      "execution_count": 1,
      "metadata": {
        "id": "39uwY8B6T0BA"
      },
      "outputs": [],
      "source": [
        "#1\n",
        "from sklearn.datasets import load_digits\n",
        "from sklearn.model_selection import train_test_split"
      ]
    },
    {
      "cell_type": "code",
      "source": [
        "import pandas as pd"
      ],
      "metadata": {
        "id": "JqtLL2KBqFMA"
      },
      "execution_count": 2,
      "outputs": []
    },
    {
      "cell_type": "code",
      "source": [
        "digits=load_digits()"
      ],
      "metadata": {
        "id": "D1qyIVrhqYh4"
      },
      "execution_count": 3,
      "outputs": []
    },
    {
      "cell_type": "code",
      "source": [
        "from sklearn.model_selection import train_test_split"
      ],
      "metadata": {
        "id": "bcC-AWFZqtyk"
      },
      "execution_count": 5,
      "outputs": []
    },
    {
      "cell_type": "code",
      "source": [
        "#2\n",
        "x_train,x_test,y_train,y_test=train_test_split(digits.data,digits.target,test_size=0.25)"
      ],
      "metadata": {
        "id": "BfCZyVabq2z_"
      },
      "execution_count": 6,
      "outputs": []
    },
    {
      "cell_type": "code",
      "source": [
        "#3\n",
        "import numpy as np\n",
        "indexList=np.arange(len(x_train))"
      ],
      "metadata": {
        "id": "hNnrzy_frLSH"
      },
      "execution_count": 7,
      "outputs": []
    },
    {
      "cell_type": "code",
      "source": [
        "print(indexList)"
      ],
      "metadata": {
        "colab": {
          "base_uri": "https://localhost:8080/"
        },
        "id": "-PReW-L6su6n",
        "outputId": "0b442f04-0cc1-4367-8dbf-a28e02c8c2fb"
      },
      "execution_count": 8,
      "outputs": [
        {
          "output_type": "stream",
          "name": "stdout",
          "text": [
            "[   0    1    2 ... 1344 1345 1346]\n"
          ]
        }
      ]
    },
    {
      "cell_type": "code",
      "source": [
        "#4\n",
        "x_labelled=x_train[indexList[:300]]"
      ],
      "metadata": {
        "id": "c4YDbxMSuPgp"
      },
      "execution_count": 9,
      "outputs": []
    },
    {
      "cell_type": "code",
      "source": [
        "y_labelled=y_train[indexList[:300]]"
      ],
      "metadata": {
        "id": "wHyUlzwnuWhf"
      },
      "execution_count": 10,
      "outputs": []
    },
    {
      "cell_type": "code",
      "source": [
        "print(y_labelled)"
      ],
      "metadata": {
        "colab": {
          "base_uri": "https://localhost:8080/"
        },
        "id": "iyvbtRaRufgV",
        "outputId": "10ece0fd-2174-4f22-ef29-1a33db98fcc0"
      },
      "execution_count": 11,
      "outputs": [
        {
          "output_type": "stream",
          "name": "stdout",
          "text": [
            "[0 0 4 9 7 3 9 2 4 1 8 7 7 0 1 4 9 7 6 6 8 5 1 2 7 3 9 3 5 3 1 6 1 8 9 2 0\n",
            " 7 7 0 8 4 5 3 4 9 5 3 7 6 0 2 7 4 2 9 0 1 5 8 6 6 6 7 7 8 9 0 3 8 6 0 1 6\n",
            " 5 8 8 7 9 6 1 6 0 7 5 4 4 4 6 3 9 3 8 8 1 3 7 2 1 6 1 6 0 8 2 3 7 2 5 8 1\n",
            " 9 3 9 1 4 7 8 4 8 2 9 5 5 8 0 3 8 8 6 5 6 8 7 2 7 2 9 3 0 0 2 7 4 5 3 6 9\n",
            " 4 9 8 9 7 0 9 9 1 1 6 8 4 1 6 2 6 3 0 7 5 2 9 1 4 6 0 6 1 4 9 1 1 6 2 6 1\n",
            " 4 1 9 1 9 0 0 8 6 5 8 0 2 0 7 9 7 4 2 8 5 7 2 4 4 0 9 9 9 8 1 8 3 7 5 5 8\n",
            " 6 9 8 1 7 1 6 3 6 7 3 2 4 3 9 0 9 3 3 6 5 9 3 6 7 2 3 7 5 2 8 5 9 1 2 4 5\n",
            " 4 7 4 1 5 0 4 2 3 8 8 1 1 4 4 7 0 9 9 6 3 5 5 3 3 1 8 5 9 4 2 7 1 5 0 2 3\n",
            " 9 5 1 5]\n"
          ]
        }
      ]
    },
    {
      "cell_type": "code",
      "source": [
        "#5\n",
        "nonLabelledIndices=indexList[300:]"
      ],
      "metadata": {
        "id": "SNXhGmhQujfd"
      },
      "execution_count": 12,
      "outputs": []
    },
    {
      "cell_type": "code",
      "source": [
        "print(nonLabelledIndices)"
      ],
      "metadata": {
        "colab": {
          "base_uri": "https://localhost:8080/"
        },
        "id": "puxXAfo6xgH2",
        "outputId": "b4b4d5a8-d08e-4564-8f9e-1782beee241d"
      },
      "execution_count": 13,
      "outputs": [
        {
          "output_type": "stream",
          "name": "stdout",
          "text": [
            "[ 300  301  302 ... 1344 1345 1346]\n"
          ]
        }
      ]
    },
    {
      "cell_type": "code",
      "source": [
        "#6\n",
        "y_train_nonLabel=np.copy(y_train)"
      ],
      "metadata": {
        "id": "jnbXEVaKyFB3"
      },
      "execution_count": 14,
      "outputs": []
    },
    {
      "cell_type": "code",
      "source": [
        "y_train_nonLabel[nonLabelledIndices]=-1"
      ],
      "metadata": {
        "id": "Ui-7apNxzaDv"
      },
      "execution_count": 15,
      "outputs": []
    },
    {
      "cell_type": "code",
      "source": [
        "print(y_train_nonLabel)"
      ],
      "metadata": {
        "colab": {
          "base_uri": "https://localhost:8080/"
        },
        "id": "r0CAenX9zpXB",
        "outputId": "53c70612-7542-4b29-a34b-b5124fea2c9f"
      },
      "execution_count": 16,
      "outputs": [
        {
          "output_type": "stream",
          "name": "stdout",
          "text": [
            "[ 0  0  4 ... -1 -1 -1]\n"
          ]
        }
      ]
    },
    {
      "cell_type": "code",
      "source": [
        "print(y_train_nonLabel[300:])"
      ],
      "metadata": {
        "colab": {
          "base_uri": "https://localhost:8080/"
        },
        "id": "cXCRcyiPzu5o",
        "outputId": "e818f409-3297-4455-f7ea-43d74265225e"
      },
      "execution_count": 17,
      "outputs": [
        {
          "output_type": "stream",
          "name": "stdout",
          "text": [
            "[-1 -1 -1 ... -1 -1 -1]\n"
          ]
        }
      ]
    },
    {
      "cell_type": "code",
      "source": [
        "#7\n",
        "from sklearn.semi_supervised import LabelSpreading"
      ],
      "metadata": {
        "id": "AgSB5jgnz-bf"
      },
      "execution_count": 18,
      "outputs": []
    },
    {
      "cell_type": "code",
      "source": [
        "LS=LabelSpreading()"
      ],
      "metadata": {
        "id": "FcBXtHSp0KYY"
      },
      "execution_count": 19,
      "outputs": []
    },
    {
      "cell_type": "code",
      "source": [
        "LS.fit(x_train,y_train_nonLabel)"
      ],
      "metadata": {
        "colab": {
          "base_uri": "https://localhost:8080/"
        },
        "id": "aDekjT_W0OHO",
        "outputId": "3e6dfd5a-cdc9-4af1-8c5b-22f8c4784964"
      },
      "execution_count": 20,
      "outputs": [
        {
          "output_type": "execute_result",
          "data": {
            "text/plain": [
              "LabelSpreading()"
            ]
          },
          "metadata": {},
          "execution_count": 20
        }
      ]
    },
    {
      "cell_type": "code",
      "source": [
        "#8\n",
        "LS.score(x_test,y_test)"
      ],
      "metadata": {
        "colab": {
          "base_uri": "https://localhost:8080/"
        },
        "id": "tVcUH6_I0W2f",
        "outputId": "08b0f963-2970-49e7-82c9-26f0170e6fe4"
      },
      "execution_count": 22,
      "outputs": [
        {
          "output_type": "stream",
          "name": "stderr",
          "text": [
            "/usr/local/lib/python3.7/dist-packages/sklearn/semi_supervised/_label_propagation.py:222: RuntimeWarning: invalid value encountered in true_divide\n",
            "  probabilities /= normalizer\n"
          ]
        },
        {
          "output_type": "execute_result",
          "data": {
            "text/plain": [
              "0.08888888888888889"
            ]
          },
          "metadata": {},
          "execution_count": 21
        },
        {
          "output_type": "stream",
          "name": "stderr",
          "text": [
            "/usr/local/lib/python3.7/dist-packages/sklearn/semi_supervised/_label_propagation.py:222: RuntimeWarning: invalid value encountered in true_divide\n",
            "  probabilities /= normalizer\n"
          ]
        },
        {
          "output_type": "execute_result",
          "data": {
            "text/plain": [
              "0.08888888888888889"
            ]
          },
          "metadata": {},
          "execution_count": 22
        }
      ]
    },
    {
      "cell_type": "code",
      "source": [
        "LS1=LabelSpreading(gamma=0.40)"
      ],
      "metadata": {
        "id": "baUvFpjE1Dy4"
      },
      "execution_count": 23,
      "outputs": []
    },
    {
      "cell_type": "code",
      "source": [
        "#9\n",
        "LS1.fit(x_train,y_train_nonLabel)"
      ],
      "metadata": {
        "colab": {
          "base_uri": "https://localhost:8080/"
        },
        "id": "7VSlaMoz1LpI",
        "outputId": "5e272d20-b13e-4db3-df53-4fddd7fdb772"
      },
      "execution_count": 25,
      "outputs": [
        {
          "output_type": "execute_result",
          "data": {
            "text/plain": [
              "LabelSpreading(gamma=0.4)"
            ]
          },
          "metadata": {},
          "execution_count": 25
        }
      ]
    },
    {
      "cell_type": "code",
      "source": [
        "LS1.score(x_test,y_test)"
      ],
      "metadata": {
        "colab": {
          "base_uri": "https://localhost:8080/"
        },
        "id": "Ng5WRKIG1qwY",
        "outputId": "516f0031-ea32-4a1e-9a92-895f568b7eac"
      },
      "execution_count": 26,
      "outputs": [
        {
          "output_type": "execute_result",
          "data": {
            "text/plain": [
              "0.9866666666666667"
            ]
          },
          "metadata": {},
          "execution_count": 26
        }
      ]
    },
    {
      "cell_type": "code",
      "source": [
        "y_labelled=LS.transduction_[nonLabelledIndices]"
      ],
      "metadata": {
        "id": "BzV-y92g11Zm"
      },
      "execution_count": 29,
      "outputs": []
    },
    {
      "cell_type": "code",
      "source": [
        "#10\n",
        "from sklearn.metrics import confusion_matrix"
      ],
      "metadata": {
        "id": "Zo2k7Lsa2PxY"
      },
      "execution_count": 31,
      "outputs": []
    },
    {
      "cell_type": "code",
      "source": [
        "confMatrix=confusion_matrix(y_train[nonLabelledIndices],y_labelled,labels=LS1.classes_)"
      ],
      "metadata": {
        "id": "FpNNMGtL2Xmn"
      },
      "execution_count": 33,
      "outputs": []
    },
    {
      "cell_type": "code",
      "source": [
        "print(confMatrix)"
      ],
      "metadata": {
        "colab": {
          "base_uri": "https://localhost:8080/"
        },
        "id": "wXw60hf83PDQ",
        "outputId": "13d6fad3-db9b-4c2f-d555-f53769ab3a16"
      },
      "execution_count": 34,
      "outputs": [
        {
          "output_type": "stream",
          "name": "stdout",
          "text": [
            "[[112   0   0   0   0   0   0   0   0   0]\n",
            " [105   1   0   0   0   0   0   0   0   0]\n",
            " [106   0   0   0   0   0   0   0   0   0]\n",
            " [114   0   0   0   0   0   0   0   0   0]\n",
            " [100   0   0   0   0   0   0   0   0   0]\n",
            " [115   0   0   0   0   0   0   0   0   0]\n",
            " [102   0   0   0   0   0   0   0   0   0]\n",
            " [101   0   0   0   0   0   0   0   0   0]\n",
            " [ 99   0   0   0   0   0   0   0   0   0]\n",
            " [ 92   0   0   0   0   0   0   0   0   0]]\n"
          ]
        }
      ]
    }
  ]
}